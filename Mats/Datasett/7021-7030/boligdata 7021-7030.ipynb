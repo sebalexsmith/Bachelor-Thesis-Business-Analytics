{
 "cells": [
  {
   "cell_type": "code",
   "execution_count": 18,
   "metadata": {},
   "outputs": [],
   "source": [
    "import pandas as pd"
   ]
  },
  {
   "cell_type": "code",
   "execution_count": 5,
   "metadata": {},
   "outputs": [],
   "source": [
    "liste1 = pd.read_excel('Ny liste (35) 29-02-24.xlsx')\n",
    "liste2 = pd.read_excel('Ny liste (75) 29-02-24.xlsx')\n",
    "liste3 = pd.read_excel('Ny liste (157) 29-02-24.xlsx')\n",
    "liste4 = pd.read_excel('Ny liste (182) 29-02-24.xlsx')\n",
    "liste5 = pd.read_excel('Ny liste (185) 29-02-24 (1).xlsx')\n",
    "liste6 = pd.read_excel('Ny liste (210) 29-02-24.xlsx')\n",
    "liste7 = pd.read_excel('Ny liste (218) 29-02-24.xlsx')\n",
    "liste8 = pd.read_excel('Ny liste (223) 29-02-24.xlsx')\n",
    "liste9 = pd.read_excel('Ny liste (277) 29-02-24.xlsx')\n",
    "liste10 = pd.read_excel('Ny liste (360) 29-02-24.xlsx')\n",
    "liste11 = pd.read_excel('Ny liste (385) 29-02-24.xlsx')\n",
    "liste12 = pd.read_excel('Ny liste (395) 29-02-24.xlsx')\n",
    "liste13 = pd.read_excel('Ny liste (459) 29-02-24.xlsx')"
   ]
  },
  {
   "cell_type": "code",
   "execution_count": 14,
   "metadata": {},
   "outputs": [],
   "source": [
    "file_path = [liste1, liste2, liste3, liste4, liste5, liste6, liste7, liste8, liste9, liste10, liste11, liste12, liste13]"
   ]
  },
  {
   "cell_type": "code",
   "execution_count": 15,
   "metadata": {},
   "outputs": [],
   "source": [
    "combined_data = pd.concat(file_path, ignore_index=True)\n"
   ]
  },
  {
   "cell_type": "code",
   "execution_count": 17,
   "metadata": {},
   "outputs": [],
   "source": [
    "combined_data.to_excel(\"combined7021-7030.xlsx\", index=False)"
   ]
  },
  {
   "cell_type": "code",
   "execution_count": null,
   "metadata": {},
   "outputs": [],
   "source": []
  }
 ],
 "metadata": {
  "kernelspec": {
   "display_name": "Python 3",
   "language": "python",
   "name": "python3"
  },
  "language_info": {
   "codemirror_mode": {
    "name": "ipython",
    "version": 3
   },
   "file_extension": ".py",
   "mimetype": "text/x-python",
   "name": "python",
   "nbconvert_exporter": "python",
   "pygments_lexer": "ipython3",
   "version": "3.11.4"
  }
 },
 "nbformat": 4,
 "nbformat_minor": 2
}
