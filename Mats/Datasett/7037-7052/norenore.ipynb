{
 "cells": [
  {
   "cell_type": "code",
   "execution_count": 1,
   "metadata": {},
   "outputs": [],
   "source": [
    "import pandas as pd\n"
   ]
  },
  {
   "cell_type": "code",
   "execution_count": 12,
   "metadata": {},
   "outputs": [],
   "source": [
    "lst40 = pd.read_excel('Ny liste (40) 29-02-24.xlsx')\n",
    "lst46 = pd.read_excel('Ny liste (46) 29-02-24.xlsx')\n",
    "lst129 = pd.read_excel('Ny liste (129) 29-02-24.xlsx')\n",
    "lst147 = pd.read_excel('Ny liste (147) 29-02-24.xlsx')\n",
    "lst195 = pd.read_excel('Ny liste (195) 29-02-24.xlsx')\n",
    "lst215 = pd.read_excel('Ny liste (215) 29-02-24.xlsx')\n",
    "lst262 = pd.read_excel('Ny liste (262) 29-02-24.xlsx')\n",
    "lst297 = pd.read_excel('Ny liste (297) 29-02-24.xlsx')\n",
    "lst334 = pd.read_excel('Ny liste (334) 29-02-24.xlsx')\n",
    "lst341 = pd.read_excel('Ny liste (341) 29-02-24.xlsx')\n",
    "lst345 = pd.read_excel('Ny liste (345) 29-02-24.xlsx')\n",
    "lst346 = pd.read_excel('Ny liste (346) 29-02-24.xlsx')\n",
    "lst359 = pd.read_excel('Ny liste (359) 29-02-24.xlsx')\n",
    "lst393 = pd.read_excel('Ny liste (393) 29-02-24.xlsx')\n",
    "lst406 = pd.read_excel('Ny liste (406) 29-02-24 (1).xlsx')\n",
    "lst410 = pd.read_excel('Ny liste (410) 29-02-24.xlsx')\n",
    "lst450 = pd.read_excel('Ny liste (450) 29-02-24.xlsx')\n",
    "lst458 = pd.read_excel('Ny liste (458) 29-02-24.xlsx')\n",
    "lst474 = pd.read_excel('Ny liste (474) 29-02-24.xlsx')"
   ]
  },
  {
   "cell_type": "code",
   "execution_count": 16,
   "metadata": {},
   "outputs": [],
   "source": [
    "names=[lst40,lst46,lst129,lst147,lst195,lst215,lst262,lst297,lst334,lst341,lst345,lst346,lst359,lst393,lst406,lst410,lst450,lst458,lst474]\n",
    "combi=pd.concat(names,ignore_index=True)"
   ]
  },
  {
   "cell_type": "code",
   "execution_count": 19,
   "metadata": {},
   "outputs": [],
   "source": [
    "combi.to_excel('37_52.xlsx', index=False)"
   ]
  }
 ],
 "metadata": {
  "kernelspec": {
   "display_name": "Python 3",
   "language": "python",
   "name": "python3"
  },
  "language_info": {
   "codemirror_mode": {
    "name": "ipython",
    "version": 3
   },
   "file_extension": ".py",
   "mimetype": "text/x-python",
   "name": "python",
   "nbconvert_exporter": "python",
   "pygments_lexer": "ipython3",
   "version": "3.12.0"
  }
 },
 "nbformat": 4,
 "nbformat_minor": 2
}
