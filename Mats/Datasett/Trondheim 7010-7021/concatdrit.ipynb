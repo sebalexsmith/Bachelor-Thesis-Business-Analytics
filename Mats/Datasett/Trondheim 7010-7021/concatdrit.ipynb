{
 "cells": [
  {
   "cell_type": "code",
   "execution_count": 1,
   "metadata": {},
   "outputs": [],
   "source": [
    "import pandas as pd"
   ]
  },
  {
   "cell_type": "code",
   "execution_count": 2,
   "metadata": {},
   "outputs": [],
   "source": [
    "lst1=pd.read_excel('Ny liste (29) 29-02-24.xlsx')\n",
    "lst2=pd.read_excel('Ny liste (57) 29-02-24.xlsx')\n",
    "lst3=pd.read_excel('Ny liste (72) 29-02-24.xlsx')\n",
    "lst4=pd.read_excel('Ny liste (80) 29-02-24.xlsx')\n",
    "lst5=pd.read_excel('Ny liste (118) 29-02-24.xlsx')\n",
    "lst6=pd.read_excel('Ny liste (121) 29-02-24.xlsx')\n",
    "lst7=pd.read_excel('Ny liste (157) 29-02-24.xlsx')\n",
    "lst8=pd.read_excel('Ny liste (164) 29-02-24.xlsx')\n",
    "lst9=pd.read_excel('Ny liste (185) 29-02-24.xlsx')\n",
    "lst10=pd.read_excel('Ny liste (197) 29-02-24.xlsx')\n",
    "lst11=pd.read_excel('Ny liste (352) 29-02-24.xlsx')\n",
    "lst12=pd.read_excel('Ny liste (360) 29-02-24.xlsx')\n",
    "lst13=pd.read_excel('Ny liste (377) 29-02-24.xlsx')\n",
    "lst14=pd.read_excel('Ny liste (388) 29-02-24 (1).xlsx')\n",
    "lst15=pd.read_excel('Ny liste (395) 29-02-24.xlsx')"
   ]
  },
  {
   "cell_type": "code",
   "execution_count": 3,
   "metadata": {},
   "outputs": [],
   "source": [
    "names=[lst1,lst2,lst3,lst4,lst5,lst6,lst7,lst8,lst9,lst10,lst11,lst12,lst13,lst14,lst15]\n",
    "combi=pd.concat(names,ignore_index=True)"
   ]
  },
  {
   "cell_type": "code",
   "execution_count": 4,
   "metadata": {},
   "outputs": [],
   "source": [
    "combi.to_excel('10_21.xlsx', index=False)"
   ]
  }
 ],
 "metadata": {
  "kernelspec": {
   "display_name": "Python 3",
   "language": "python",
   "name": "python3"
  },
  "language_info": {
   "codemirror_mode": {
    "name": "ipython",
    "version": 3
   },
   "file_extension": ".py",
   "mimetype": "text/x-python",
   "name": "python",
   "nbconvert_exporter": "python",
   "pygments_lexer": "ipython3",
   "version": "3.12.0"
  }
 },
 "nbformat": 4,
 "nbformat_minor": 2
}
