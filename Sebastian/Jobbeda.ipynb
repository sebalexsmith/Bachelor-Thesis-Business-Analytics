{
 "cells": [
  {
   "cell_type": "code",
   "execution_count": 2,
   "metadata": {},
   "outputs": [],
   "source": [
    "import pandas as pd\n",
    "import numpy as np\n",
    "import matplotlib.pyplot as plt"
   ]
  },
  {
   "cell_type": "code",
   "execution_count": 3,
   "metadata": {},
   "outputs": [],
   "source": [
    "# VISUALS\n",
    "# Figure size\n",
    "plt.rcParams['figure.figsize'] = [16,10]\n",
    "\n",
    "# Text sizes\n",
    "plt.rcParams['xtick.labelsize'] = 12\n",
    "plt.rcParams['ytick.labelsize'] = 12\n",
    "plt.rcParams['axes.labelsize']= 12\n",
    "plt.rcParams['font.size'] = 14\n",
    "\n",
    "# Colors\n",
    "plt.rcParams['legend.labelcolor'] = '#ffffff'\n",
    "plt.rcParams['xtick.labelcolor'] = '#ffffff'\n",
    "plt.rcParams['ytick.labelcolor'] = '#ffffff'\n",
    "plt.rcParams['axes.labelcolor'] = '#ffffff'\n",
    "plt.rcParams['axes.titlecolor'] = '#ffffff'\n",
    "plt.rcParams['axes.edgecolor'] = '#ffffff'\n",
    "plt.rcParams['xtick.color'] = '#ffffff'\n",
    "plt.rcParams['ytick.color'] = '#ffffff'\n",
    "plt.rcParams['figure.facecolor'] = '#1f1f1f'\n",
    "plt.rcParams['axes.facecolor'] = '#1f1f1f'\n",
    "\n",
    "# Graph colors\n",
    "from cycler import cycler\n",
    "\n",
    "diverse = ['#1f78b4', '#33a02c', '#e31a1c', '#ff7f00', '#6a3d9a', '#b15928', '#a6cee3', '#b2df8a', '#fb9a99']\n",
    "greens = ['#2ca02c', '#4daf4a', '#45a05a', '#60bd68', '#5cb85c', '#6ba981', '#75bb6f', '#6dae64', '#4c9a5f']\n",
    "blues = ['#1f78b4', '#377eb8', '#3182bd', '#4292c6', '#5aaed6', '#6baed6', '#7ba3df', '#92b3e4', '#a6bddb']\n",
    "reds = ['#e41a1c', '#d73027', '#a50026', '#f46d43', '#d73027', '#fdae61', '#fee08b', '#fee08b', '#d73027']\n",
    "\n",
    "plt.rcParams['axes.prop_cycle'] = cycler(color = diverse)\n",
    "\n",
    "# Display max columns, pandas dataframes\n",
    "pd.set_option('display.max_columns', None)"
   ]
  },
  {
   "cell_type": "code",
   "execution_count": 4,
   "metadata": {},
   "outputs": [],
   "source": [
    "df = pd.read_excel('../Felles/TrondheimHousingData.xlsx')"
   ]
  },
  {
   "cell_type": "code",
   "execution_count": 5,
   "metadata": {},
   "outputs": [
    {
     "data": {
      "text/plain": [
       "Boligtype\n",
       "Selveierleilighet          9864\n",
       "Borettslagsleilighet       5830\n",
       "Selveier enebolig          2238\n",
       "Selveier tomannsbolig      1415\n",
       "Selveier rekkehus          1200\n",
       "Annet                       436\n",
       "Borettslag rekkehus         434\n",
       "Borettslag tomannsbolig      63\n",
       "Selveier garasje             19\n",
       "Borettslag enebolig          19\n",
       "Ubebygd                       6\n",
       "Næring                        3\n",
       "Name: count, dtype: int64"
      ]
     },
     "execution_count": 5,
     "metadata": {},
     "output_type": "execute_result"
    }
   ],
   "source": [
    "df['Boligtype'].value_counts()"
   ]
  },
  {
   "cell_type": "code",
   "execution_count": 6,
   "metadata": {},
   "outputs": [
    {
     "data": {
      "text/plain": [
       "array(['Selveierleilighet', 'Selveier enebolig', 'Selveier tomannsbolig',\n",
       "       'Selveier rekkehus', 'Borettslagsleilighet',\n",
       "       'Borettslag tomannsbolig', 'Borettslag rekkehus', 'Annet',\n",
       "       'Selveier garasje', 'Ubebygd', 'Borettslag enebolig', 'Næring'],\n",
       "      dtype=object)"
      ]
     },
     "execution_count": 6,
     "metadata": {},
     "output_type": "execute_result"
    }
   ],
   "source": [
    "df['Boligtype'].unique()"
   ]
  },
  {
   "cell_type": "code",
   "execution_count": 7,
   "metadata": {},
   "outputs": [],
   "source": [
    "df['Pris'] = pd.to_numeric(df['Pris'], errors='coerce')"
   ]
  },
  {
   "cell_type": "code",
   "execution_count": 8,
   "metadata": {},
   "outputs": [
    {
     "data": {
      "image/png": "[encoded data removed]",
      "text/plain": [
       "<Figure size 1600x1000 with 1 Axes>"
      ]
     },
     "metadata": {},
     "output_type": "display_data"
    }
   ],
   "source": [
    "fig, ax = plt.subplots()\n",
    "plt.hist(df['Pris'].dropna(), bins = 50)\n",
    "\n",
    "plt.show()"
   ]
  },
  {
   "cell_type": "code",
   "execution_count": 9,
   "metadata": {},
   "outputs": [
    {
     "name": "stdout",
     "output_type": "stream",
     "text": [
      "3,600,000.0\n"
     ]
    }
   ],
   "source": [
    "print(f\"{df['Pris'].median():,}\")"
   ]
  },
  {
   "cell_type": "code",
   "execution_count": 36,
   "metadata": {},
   "outputs": [],
   "source": [
    "df['Postnummer'] = df['Adresse'].str.split(', ').str[1].str[:4].astype(int)"
   ]
  },
  {
   "cell_type": "code",
   "execution_count": 37,
   "metadata": {},
   "outputs": [
    {
     "data": {
      "text/plain": [
       "array([7013, 7019, 7016, 7011, 7017, 7010, 7021, 7020, 7015, 7014, 7018,\n",
       "       7012, 7039, 7051, 7044, 7037, 7047, 7038, 7042, 7049, 7050, 7040,\n",
       "       7041, 7066, 7048, 7043, 7046, 7052, 7045, 7028, 7025, 7071, 7024,\n",
       "       7026, 7022, 7029, 7030, 7023, 7027, 7032, 7035, 7036, 7033, 7031,\n",
       "       7057, 7074, 7083, 7070, 7060, 7059, 7069, 7091, 7079, 7082, 7081,\n",
       "       7056, 7088, 7055, 7054, 7068, 7072, 7080, 7053, 7058, 7075, 7089,\n",
       "       7067, 7093, 7097, 7549, 7092, 7098, 7099, 7540])"
      ]
     },
     "execution_count": 37,
     "metadata": {},
     "output_type": "execute_result"
    }
   ],
   "source": [
    "df['Postnummer'].unique()"
   ]
  },
  {
   "cell_type": "code",
   "execution_count": 38,
   "metadata": {},
   "outputs": [
    {
     "data": {
      "text/html": [
       "<div>\n",
       "<style scoped>\n",
       "    .dataframe tbody tr th:only-of-type {\n",
       "        vertical-align: middle;\n",
       "    }\n",
       "\n",
       "    .dataframe tbody tr th {\n",
       "        vertical-align: top;\n",
       "    }\n",
       "\n",
       "    .dataframe thead th {\n",
       "        text-align: right;\n",
       "    }\n",
       "</style>\n",
       "<table border=\"1\" class=\"dataframe\">\n",
       "  <thead>\n",
       "    <tr style=\"text-align: right;\">\n",
       "      <th></th>\n",
       "      <th>Matrikkel / Org-Anr</th>\n",
       "      <th>Adresse</th>\n",
       "      <th>Boligtype</th>\n",
       "      <th>Prom</th>\n",
       "      <th>BRA</th>\n",
       "      <th>BTA</th>\n",
       "      <th>Byggeår</th>\n",
       "      <th>Etasje</th>\n",
       "      <th>Balkong</th>\n",
       "      <th>Parkering</th>\n",
       "      <th>Tomtestørrelse</th>\n",
       "      <th>Sist solgt</th>\n",
       "      <th>Pris</th>\n",
       "      <th>Fellesgjeld ved siste salg</th>\n",
       "      <th>Totalpris ved siste salg</th>\n",
       "      <th>Antall rom</th>\n",
       "      <th>Antall soverom</th>\n",
       "      <th>Hjemmelshaver</th>\n",
       "      <th>Registrert dato</th>\n",
       "      <th>Omsetningshastighet (dager)</th>\n",
       "      <th>Megler</th>\n",
       "      <th>Postnummer</th>\n",
       "      <th>Poststed</th>\n",
       "    </tr>\n",
       "  </thead>\n",
       "  <tbody>\n",
       "    <tr>\n",
       "      <th>0</th>\n",
       "      <td>5001-400/93/0/12</td>\n",
       "      <td>Erling Skakkes gate 1, 7013 TRONDHEIM</td>\n",
       "      <td>Selveierleilighet</td>\n",
       "      <td>40.0</td>\n",
       "      <td>40.0</td>\n",
       "      <td>40.0</td>\n",
       "      <td>1974.0</td>\n",
       "      <td>2.0</td>\n",
       "      <td>Ja</td>\n",
       "      <td>Nei</td>\n",
       "      <td>667.5</td>\n",
       "      <td>20.12.2023</td>\n",
       "      <td>3100000.0</td>\n",
       "      <td>0.00</td>\n",
       "      <td>3100000</td>\n",
       "      <td>2.0</td>\n",
       "      <td>1.0</td>\n",
       "      <td>MATHIAS RØNNING</td>\n",
       "      <td>28.04.2023</td>\n",
       "      <td>236.0</td>\n",
       "      <td>Heimdal Eiendomsmegling avd. Sentrum</td>\n",
       "      <td>7013</td>\n",
       "      <td>TRONDHEIM</td>\n",
       "    </tr>\n",
       "    <tr>\n",
       "      <th>1</th>\n",
       "      <td>5001-400/123/0/3</td>\n",
       "      <td>Vår Frue gate 8, 7013 TRONDHEIM</td>\n",
       "      <td>Selveierleilighet</td>\n",
       "      <td>49.0</td>\n",
       "      <td>49.0</td>\n",
       "      <td>54.0</td>\n",
       "      <td>1870.0</td>\n",
       "      <td>2.0</td>\n",
       "      <td>NaN</td>\n",
       "      <td>Nei</td>\n",
       "      <td>193.4</td>\n",
       "      <td>04.12.2023</td>\n",
       "      <td>3150000.0</td>\n",
       "      <td>55723.23</td>\n",
       "      <td>3205723.23</td>\n",
       "      <td>2.0</td>\n",
       "      <td>1.0</td>\n",
       "      <td>ALBERTO COMMODARO</td>\n",
       "      <td>07.06.2023</td>\n",
       "      <td>180.0</td>\n",
       "      <td>PrivatMegleren Benum &amp; Johansen</td>\n",
       "      <td>7013</td>\n",
       "      <td>TRONDHEIM</td>\n",
       "    </tr>\n",
       "    <tr>\n",
       "      <th>2</th>\n",
       "      <td>5001-400/102/0/5</td>\n",
       "      <td>Schultz gate 8, 7013 TRONDHEIM</td>\n",
       "      <td>Selveierleilighet</td>\n",
       "      <td>53.0</td>\n",
       "      <td>53.0</td>\n",
       "      <td>58.0</td>\n",
       "      <td>1902.0</td>\n",
       "      <td>3.0</td>\n",
       "      <td>Ja</td>\n",
       "      <td>Nei</td>\n",
       "      <td>304.1</td>\n",
       "      <td>22.11.2023</td>\n",
       "      <td>4000000.0</td>\n",
       "      <td>25638.00</td>\n",
       "      <td>4025638</td>\n",
       "      <td>3.0</td>\n",
       "      <td>2.0</td>\n",
       "      <td>MARIT J JENSÅS LØVLI</td>\n",
       "      <td>09.11.2023</td>\n",
       "      <td>13.0</td>\n",
       "      <td>PRIVATmegleren Trondheim</td>\n",
       "      <td>7013</td>\n",
       "      <td>TRONDHEIM</td>\n",
       "    </tr>\n",
       "    <tr>\n",
       "      <th>3</th>\n",
       "      <td>5001-400/93/0/10</td>\n",
       "      <td>Erling Skakkes gate 1, 7013 TRONDHEIM</td>\n",
       "      <td>Selveierleilighet</td>\n",
       "      <td>46.0</td>\n",
       "      <td>46.0</td>\n",
       "      <td>50.0</td>\n",
       "      <td>1974.0</td>\n",
       "      <td>2.0</td>\n",
       "      <td>NaN</td>\n",
       "      <td>Nei</td>\n",
       "      <td>667.5</td>\n",
       "      <td>21.08.2023</td>\n",
       "      <td>3125000.0</td>\n",
       "      <td>0.00</td>\n",
       "      <td>3125000</td>\n",
       "      <td>2.0</td>\n",
       "      <td>1.0</td>\n",
       "      <td>ELIN BERIT ELVERUM</td>\n",
       "      <td>01.08.2023</td>\n",
       "      <td>20.0</td>\n",
       "      <td>Proaktiv Trondheim</td>\n",
       "      <td>7013</td>\n",
       "      <td>TRONDHEIM</td>\n",
       "    </tr>\n",
       "    <tr>\n",
       "      <th>4</th>\n",
       "      <td>5001-400/123/0/5</td>\n",
       "      <td>Vår Frue gate 8, 7013 TRONDHEIM</td>\n",
       "      <td>Selveierleilighet</td>\n",
       "      <td>42.0</td>\n",
       "      <td>42.0</td>\n",
       "      <td>NaN</td>\n",
       "      <td>1870.0</td>\n",
       "      <td>3.0</td>\n",
       "      <td>NaN</td>\n",
       "      <td>Nei</td>\n",
       "      <td>193.4</td>\n",
       "      <td>12.07.2023</td>\n",
       "      <td>3700000.0</td>\n",
       "      <td>51026.00</td>\n",
       "      <td>3751026</td>\n",
       "      <td>2.0</td>\n",
       "      <td>2.0</td>\n",
       "      <td>OSCAR RAM KALIA</td>\n",
       "      <td>04.07.2023</td>\n",
       "      <td>8.0</td>\n",
       "      <td>Proaktiv Trondheim</td>\n",
       "      <td>7013</td>\n",
       "      <td>TRONDHEIM</td>\n",
       "    </tr>\n",
       "  </tbody>\n",
       "</table>\n",
       "</div>"
      ],
      "text/plain": [
       "  Matrikkel / Org-Anr                                Adresse  \\\n",
       "0    5001-400/93/0/12  Erling Skakkes gate 1, 7013 TRONDHEIM   \n",
       "1    5001-400/123/0/3        Vår Frue gate 8, 7013 TRONDHEIM   \n",
       "2    5001-400/102/0/5         Schultz gate 8, 7013 TRONDHEIM   \n",
       "3    5001-400/93/0/10  Erling Skakkes gate 1, 7013 TRONDHEIM   \n",
       "4    5001-400/123/0/5        Vår Frue gate 8, 7013 TRONDHEIM   \n",
       "\n",
       "           Boligtype  Prom   BRA   BTA  Byggeår  Etasje Balkong Parkering  \\\n",
       "0  Selveierleilighet  40.0  40.0  40.0   1974.0     2.0      Ja       Nei   \n",
       "1  Selveierleilighet  49.0  49.0  54.0   1870.0     2.0     NaN       Nei   \n",
       "2  Selveierleilighet  53.0  53.0  58.0   1902.0     3.0      Ja       Nei   \n",
       "3  Selveierleilighet  46.0  46.0  50.0   1974.0     2.0     NaN       Nei   \n",
       "4  Selveierleilighet  42.0  42.0   NaN   1870.0     3.0     NaN       Nei   \n",
       "\n",
       "   Tomtestørrelse  Sist solgt       Pris  Fellesgjeld ved siste salg  \\\n",
       "0           667.5  20.12.2023  3100000.0                        0.00   \n",
       "1           193.4  04.12.2023  3150000.0                    55723.23   \n",
       "2           304.1  22.11.2023  4000000.0                    25638.00   \n",
       "3           667.5  21.08.2023  3125000.0                        0.00   \n",
       "4           193.4  12.07.2023  3700000.0                    51026.00   \n",
       "\n",
       "  Totalpris ved siste salg  Antall rom  Antall soverom         Hjemmelshaver  \\\n",
       "0                  3100000         2.0             1.0       MATHIAS RØNNING   \n",
       "1               3205723.23         2.0             1.0     ALBERTO COMMODARO   \n",
       "2                  4025638         3.0             2.0  MARIT J JENSÅS LØVLI   \n",
       "3                  3125000         2.0             1.0    ELIN BERIT ELVERUM   \n",
       "4                  3751026         2.0             2.0       OSCAR RAM KALIA   \n",
       "\n",
       "  Registrert dato  Omsetningshastighet (dager)  \\\n",
       "0      28.04.2023                        236.0   \n",
       "1      07.06.2023                        180.0   \n",
       "2      09.11.2023                         13.0   \n",
       "3      01.08.2023                         20.0   \n",
       "4      04.07.2023                          8.0   \n",
       "\n",
       "                                 Megler  Postnummer   Poststed  \n",
       "0  Heimdal Eiendomsmegling avd. Sentrum        7013  TRONDHEIM  \n",
       "1       PrivatMegleren Benum & Johansen        7013  TRONDHEIM  \n",
       "2              PRIVATmegleren Trondheim        7013  TRONDHEIM  \n",
       "3                    Proaktiv Trondheim        7013  TRONDHEIM  \n",
       "4                    Proaktiv Trondheim        7013  TRONDHEIM  "
      ]
     },
     "execution_count": 38,
     "metadata": {},
     "output_type": "execute_result"
    }
   ],
   "source": [
    "df.head()"
   ]
  }
 ],
 "metadata": {
  "kernelspec": {
   "display_name": "Python 3",
   "language": "python",
   "name": "python3"
  },
  "language_info": {
   "codemirror_mode": {
    "name": "ipython",
    "version": 3
   },
   "file_extension": ".py",
   "mimetype": "text/x-python",
   "name": "python",
   "nbconvert_exporter": "python",
   "pygments_lexer": "ipython3",
   "version": "3.10.11"
  }
 },
 "nbformat": 4,
 "nbformat_minor": 2
}
