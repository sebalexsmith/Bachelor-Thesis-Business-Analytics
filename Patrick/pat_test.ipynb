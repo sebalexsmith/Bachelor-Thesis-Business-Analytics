{
 "cells": [
  {
   "cell_type": "code",
   "execution_count": 3,
   "metadata": {},
   "outputs": [
    {
     "name": "stdout",
     "output_type": "stream",
     "text": [
      "yo mama so fat so when she goes for a swim the Netherlands gets flooded\n",
      "Yo mama so fat, so when she falls to the grownd the Dinosaurs would go extingt\n"
     ]
    }
   ],
   "source": [
    "print(\"yo mama so fat so when she goes for a swim the Netherlands gets flooded\")\n",
    "print('Yo mama so fat, so when she falls to the grownd the Dinosaurs would go extingt')"
   ]
  },
  {
   "cell_type": "code",
   "execution_count": null,
   "metadata": {},
   "outputs": [],
   "source": []
  }
 ],
 "metadata": {
  "kernelspec": {
   "display_name": "Python 3",
   "language": "python",
   "name": "python3"
  },
  "language_info": {
   "codemirror_mode": {
    "name": "ipython",
    "version": 3
   },
   "file_extension": ".py",
   "mimetype": "text/x-python",
   "name": "python",
   "nbconvert_exporter": "python",
   "pygments_lexer": "ipython3",
   "version": "3.10.0"
  }
 },
 "nbformat": 4,
 "nbformat_minor": 2
}
